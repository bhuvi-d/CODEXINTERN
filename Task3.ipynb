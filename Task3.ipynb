{
 "cells": [
  {
   "cell_type": "markdown",
   "id": "2b26a9fa-777b-417d-a04b-0e04aa6c9412",
   "metadata": {},
   "source": [
    "### Matrix Operation Tool "
   ]
  },
  {
   "cell_type": "markdown",
   "id": "42ef2b1b-f6a1-4226-8eae-33d73f6813a2",
   "metadata": {},
   "source": [
    "### Objective : \n",
    "Create a \"Matrix Operations Tool\" using Python and the NumPy library. The application should \n",
    "allow users to input matrices and perform operations like addition, subtraction, \n",
    "multiplication, transpose, and determinant calculation. Include an interactive interface to \n",
    "display results in a structured format. "
   ]
  },
  {
   "cell_type": "code",
   "execution_count": 14,
   "id": "4ea68e33-c6c2-42fa-8528-ea4c20609fa8",
   "metadata": {},
   "outputs": [],
   "source": [
    "import numpy as np\n"
   ]
  },
  {
   "cell_type": "code",
   "execution_count": 15,
   "id": "b31c8f69-75a8-424d-9d7f-f8af4015b4c1",
   "metadata": {},
   "outputs": [],
   "source": [
    "def get_matrix(name):\n",
    "    print(f\"\\n ENTER DETAILS FOR MATRIX {name}\")\n",
    "    rows = int(input(f\"How many rows in Matrix {name}? \"))\n",
    "    cols = int(input(f\"How many columns in Matrix {name}? \"))\n",
    "    print(f\"Enter the elements row by row, space-separated:\")\n",
    "    matrix = []\n",
    "    for i in range(rows):\n",
    "        row = list(map(float, input(f\"Row {i+1}: \").split()))\n",
    "        matrix.append(row)\n",
    "    return np.array(matrix)\n"
   ]
  },
  {
   "cell_type": "code",
   "execution_count": 16,
   "id": "d74ef015-211a-4374-8b6f-e103c152c8bd",
   "metadata": {},
   "outputs": [],
   "source": [
    "def input_matrix(name):\n",
    "    rows = int(input(f\"Enter number of rows for Matrix {name}: \"))\n",
    "    cols = int(input(f\"Enter number of columns for Matrix {name}: \"))\n",
    "    print(f\"Enter the elements of Matrix {name} row-wise:\")\n",
    "    matrix = []\n",
    "    for i in range(rows):\n",
    "        row = list(map(float, input(f\"Row {i+1}: \").split()))\n",
    "        matrix.append(row)\n",
    "    return np.array(matrix)"
   ]
  },
  {
   "cell_type": "code",
   "execution_count": 17,
   "id": "c50d4c92-bea6-4c0f-be71-6b882bd13576",
   "metadata": {},
   "outputs": [],
   "source": [
    "def add(a, b):\n",
    "    return a + b\n",
    "\n",
    "def sub(a, b):\n",
    "    return a - b\n",
    "\n",
    "def mul(a, b):\n",
    "    return np.dot(a, b)\n",
    "\n",
    "def trans(a):\n",
    "    return a.T\n",
    "\n",
    "def det(a):\n",
    "    return np.linalg.det(a)\n"
   ]
  },
  {
   "cell_type": "code",
   "execution_count": 18,
   "id": "b58bfc1d-7689-4f56-803b-9b9a97ae469a",
   "metadata": {},
   "outputs": [],
   "source": [
    "def show_menu():\n",
    "    print(\"\\n==============================\")\n",
    "    print(\" MATRIX OPERATIONS TOOL \")\n",
    "    print(\"==============================\")\n",
    "    print(\"1. ✨Add Matrices\")\n",
    "    print(\"2. ✨Subtract Matrices\")\n",
    "    print(\"3. ✨Multiply Matrices\")\n",
    "    print(\"4. ✨Transpose Matrix\")\n",
    "    print(\"5. ✨Determinant of Matrix\")\n",
    "    print(\"6. Exit\")\n",
    "    print(\"==============================\")\n",
    "\n"
   ]
  },
  {
   "cell_type": "code",
   "execution_count": 19,
   "id": "c8ad656f-35eb-47ec-90fa-f77d1dfcd755",
   "metadata": {},
   "outputs": [],
   "source": [
    "def main():\n",
    "    while True:\n",
    "        show_menu()\n",
    "        choice = input(\"Pick an option (1–6): \")\n",
    "\n",
    "        if choice == '1':\n",
    "            a = get_matrix('A')\n",
    "            b = get_matrix('B')\n",
    "            if a.shape == b.shape:\n",
    "                print(\"\\nResult of A + B:\\n\", add(a, b))\n",
    "            else:\n",
    "                print(\"Error: Matrix shapes must match for addition!\")\n",
    "\n",
    "        elif choice == '2':\n",
    "            a = get_matrix('A')\n",
    "            b = get_matrix('B')\n",
    "            if a.shape == b.shape:\n",
    "                print(\"\\nResult of A - B:\\n\", sub(a, b))\n",
    "            else:\n",
    "                print(\"Error: Matrix shapes must match for subtraction!\")\n",
    "\n",
    "        elif choice == '3':\n",
    "            a = get_matrix('A')\n",
    "            b = get_matrix('B')\n",
    "            if a.shape[1] == b.shape[0]:\n",
    "                print(\"\\n Result of A x B:\\n\", mul(a, b))\n",
    "            else:\n",
    "                print(\"Error: A's columns must match B's rows for multiplication!\")\n",
    "\n",
    "        elif choice == '4':\n",
    "            a = get_matrix('A')\n",
    "            print(\"\\n Transpose of A:\\n\", trans(a))\n",
    "\n",
    "        elif choice == '5':\n",
    "            a = get_matrix('A')\n",
    "            if a.shape[0] == a.shape[1]:\n",
    "                print(f\"\\n Determinant of A: {round(det(a), 2)}\")\n",
    "            else:\n",
    "                print(\" Error: Determinant only works on square matrices!\")\n",
    "\n",
    "        elif choice == '6':\n",
    "            print(\"\\n Exiting Matrix Magic Tool. Stay sharp, math hero!\")\n",
    "            break\n",
    "\n",
    "        else:\n",
    "            print(\" Invalid option. Try again.\")\n"
   ]
  },
  {
   "cell_type": "code",
   "execution_count": null,
   "id": "1ec9f233-ccf8-4823-9187-0a2e88cdc623",
   "metadata": {},
   "outputs": [
    {
     "name": "stdout",
     "output_type": "stream",
     "text": [
      "\n",
      "==============================\n",
      " MATRIX OPERATIONS TOOL \n",
      "==============================\n",
      "1. ✨Add Matrices\n",
      "2. ✨Subtract Matrices\n",
      "3. ✨Multiply Matrices\n",
      "4. ✨Transpose Matrix\n",
      "5. ✨Determinant of Matrix\n",
      "6. Exit\n",
      "==============================\n"
     ]
    },
    {
     "name": "stdin",
     "output_type": "stream",
     "text": [
      "Pick an option (1–6):  5\n"
     ]
    },
    {
     "name": "stdout",
     "output_type": "stream",
     "text": [
      "\n",
      " ENTER DETAILS FOR MATRIX A\n"
     ]
    },
    {
     "name": "stdin",
     "output_type": "stream",
     "text": [
      "How many rows in Matrix A?  7\n",
      "How many columns in Matrix A?  6\n"
     ]
    },
    {
     "name": "stdout",
     "output_type": "stream",
     "text": [
      "Enter the elements row by row, space-separated:\n"
     ]
    },
    {
     "name": "stdin",
     "output_type": "stream",
     "text": [
      "Row 1:  1\n",
      "Row 2:  2\n",
      "Row 3:  3\n",
      "Row 4:  4\n",
      "Row 5:  5\n",
      "Row 6:  6\n",
      "Row 7:  7\n"
     ]
    },
    {
     "name": "stdout",
     "output_type": "stream",
     "text": [
      " Error: Determinant only works on square matrices!\n",
      "\n",
      "==============================\n",
      " MATRIX OPERATIONS TOOL \n",
      "==============================\n",
      "1. ✨Add Matrices\n",
      "2. ✨Subtract Matrices\n",
      "3. ✨Multiply Matrices\n",
      "4. ✨Transpose Matrix\n",
      "5. ✨Determinant of Matrix\n",
      "6. Exit\n",
      "==============================\n"
     ]
    },
    {
     "name": "stdin",
     "output_type": "stream",
     "text": [
      "Pick an option (1–6):  1\n"
     ]
    },
    {
     "name": "stdout",
     "output_type": "stream",
     "text": [
      "\n",
      " ENTER DETAILS FOR MATRIX A\n"
     ]
    },
    {
     "name": "stdin",
     "output_type": "stream",
     "text": [
      "How many rows in Matrix A?  3\n",
      "How many columns in Matrix A?  3\n"
     ]
    },
    {
     "name": "stdout",
     "output_type": "stream",
     "text": [
      "Enter the elements row by row, space-separated:\n"
     ]
    },
    {
     "name": "stdin",
     "output_type": "stream",
     "text": [
      "Row 1:  3\n",
      "Row 2:  4\n",
      "Row 3:  5\n"
     ]
    },
    {
     "name": "stdout",
     "output_type": "stream",
     "text": [
      "\n",
      " ENTER DETAILS FOR MATRIX B\n"
     ]
    },
    {
     "name": "stdin",
     "output_type": "stream",
     "text": [
      "How many rows in Matrix B?  3\n",
      "How many columns in Matrix B?  4\n"
     ]
    },
    {
     "name": "stdout",
     "output_type": "stream",
     "text": [
      "Enter the elements row by row, space-separated:\n"
     ]
    },
    {
     "name": "stdin",
     "output_type": "stream",
     "text": [
      "Row 1:  3\n",
      "Row 2:  4\n",
      "Row 3:  4\n"
     ]
    },
    {
     "name": "stdout",
     "output_type": "stream",
     "text": [
      "\n",
      "Result of A + B:\n",
      " [[6.]\n",
      " [8.]\n",
      " [9.]]\n",
      "\n",
      "==============================\n",
      " MATRIX OPERATIONS TOOL \n",
      "==============================\n",
      "1. ✨Add Matrices\n",
      "2. ✨Subtract Matrices\n",
      "3. ✨Multiply Matrices\n",
      "4. ✨Transpose Matrix\n",
      "5. ✨Determinant of Matrix\n",
      "6. Exit\n",
      "==============================\n"
     ]
    }
   ],
   "source": [
    "if __name__ == \"__main__\":\n",
    "    main()\n"
   ]
  },
  {
   "cell_type": "code",
   "execution_count": null,
   "id": "0420dc21-dea0-4933-bf64-0c70b378fe52",
   "metadata": {},
   "outputs": [],
   "source": []
  },
  {
   "cell_type": "code",
   "execution_count": null,
   "id": "3fe85180-3f5e-4ecc-9700-1bb80aebffd6",
   "metadata": {},
   "outputs": [],
   "source": []
  }
 ],
 "metadata": {
  "kernelspec": {
   "display_name": "Python [conda env:base] *",
   "language": "python",
   "name": "conda-base-py"
  },
  "language_info": {
   "codemirror_mode": {
    "name": "ipython",
    "version": 3
   },
   "file_extension": ".py",
   "mimetype": "text/x-python",
   "name": "python",
   "nbconvert_exporter": "python",
   "pygments_lexer": "ipython3",
   "version": "3.13.5"
  }
 },
 "nbformat": 4,
 "nbformat_minor": 5
}
